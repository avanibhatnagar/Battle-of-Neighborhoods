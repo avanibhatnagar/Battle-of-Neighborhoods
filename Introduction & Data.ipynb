{
 "cells": [
  {
   "cell_type": "markdown",
   "metadata": {},
   "source": [
    "# Battle of Neighborhoods\n",
    "\n",
    "## Introduction\n"
   ]
  },
  {
   "cell_type": "markdown",
   "metadata": {},
   "source": [
    "Location is very important when it comes to opening a restaurant. If a business wants to open up a restaurant in a city, they need to know different things about the location to be able to strategically select the correct neighborhood which will attract the most crowd, is affordable to open up a restaurant at, has lesser competition, population etc. In this situation, a family living in New York decides to open an Indian restaurant in the city. They are in the very intial stages of planning this business and one of their first points of focus is deciding the location of the restaurant. They know a lot of people enjoy Indian food, but for the most profit they need to able to find something that will also consider factors such as population, relative competitiveness in that area, etc.\n",
    "\n",
    "Their goal is find maximum success while putting in least risks since they are using a lot of their family savings into this! "
   ]
  },
  {
   "cell_type": "markdown",
   "metadata": {},
   "source": [
    "## Data"
   ]
  },
  {
   "cell_type": "markdown",
   "metadata": {},
   "source": [
    "The Data is the most important part of any data science/analysis project.\n",
    "\n",
    "1. Geospatial: We use this dataset: https://cocl.us/new_york_dataset to get the location details of New York - it's the geospatial data which will give us the Latitude and Longitude values for each Borough in New York. This will be greatly helpful in generating maps and visualizing the overall results.\n",
    "2. Foursquare API: We use Foursquare API to get various restaurants in New York such as Indian Cuisine. This will help the business get an idea of what's the best location to open their restaurant in terms on relative competition in the same business"
   ]
  },
  {
   "cell_type": "code",
   "execution_count": null,
   "metadata": {},
   "outputs": [],
   "source": []
  }
 ],
 "metadata": {
  "kernelspec": {
   "display_name": "Python 3",
   "language": "python",
   "name": "python3"
  },
  "language_info": {
   "codemirror_mode": {
    "name": "ipython",
    "version": 3
   },
   "file_extension": ".py",
   "mimetype": "text/x-python",
   "name": "python",
   "nbconvert_exporter": "python",
   "pygments_lexer": "ipython3",
   "version": "3.7.2"
  }
 },
 "nbformat": 4,
 "nbformat_minor": 4
}
